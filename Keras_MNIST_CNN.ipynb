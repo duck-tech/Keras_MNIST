{
 "cells": [
  {
   "cell_type": "markdown",
   "id": "9dd8a096",
   "metadata": {},
   "source": [
    "# CNN\n",
    "- 卷積運算後的效果很像濾鏡效果\n",
    "- Max-pooling : 影像縮減取樣,\n",
    "    - 減少需處理的資料點 ： 減少後續運算所需的時間\n",
    "    - 讓影像位置差異變小 \n",
    "    - 參數的數量和計算量下降 : 控制了overfitting"
   ]
  },
  {
   "cell_type": "markdown",
   "id": "f4a6d89a",
   "metadata": {},
   "source": [
    "||reshape|說明|\n",
    "|---|---|---|\n",
    "|MLP|image.reshape(60000,784)|多元感知器因直接送進神經元處理，所以reshape轉換為60000筆，每一筆有784個數字，作為784個神經元的輸入\n",
    "|CNN|image.reshape(60000,28,28,1)|CNN因為必須先進行卷積與池化運算，所以必須保持影像的維度，所以reshape轉換為60000筆，每一筆有28X28X1的影像"
   ]
  },
  {
   "cell_type": "code",
   "execution_count": 24,
   "id": "81a87d92",
   "metadata": {},
   "outputs": [],
   "source": [
    "from keras.utils import np_utils # 因為後續要將label 標籤轉成one-hot encoding\n",
    "import matplotlib.pyplot as plt\n",
    "import numpy as np\n",
    "np.random.seed(10)\n",
    "\n",
    "# 匯入Keras 模組\n",
    "from keras.datasets import mnist\n",
    "(X_train, y_train), (X_test, y_test) = mnist.load_data()"
   ]
  },
  {
   "cell_type": "code",
   "execution_count": 3,
   "id": "e193d4da",
   "metadata": {},
   "outputs": [
    {
     "name": "stdout",
     "output_type": "stream",
     "text": [
      "X_Train: (60000, 28, 28, 1)\n",
      "X_Test: (10000, 28, 28, 1)\n"
     ]
    }
   ],
   "source": [
    "X_Train4D = X_train.reshape(X_train.shape[0],28,28,1).astype('float32')\n",
    "X_Test4D = X_test.reshape(X_test.shape[0],28,28,1).astype('float32')\n",
    "print('X_Train:',X_Train4D.shape)\n",
    "print('X_Test:',X_Test4D.shape)"
   ]
  },
  {
   "cell_type": "code",
   "execution_count": 4,
   "id": "439f6b46",
   "metadata": {},
   "outputs": [],
   "source": [
    "# 數字標準化\n",
    "X_Train4D_normalize = X_Train4D / 255\n",
    "X_Test4D_normalize = X_Test4D / 255\n",
    "# X_Train_normalize[0]"
   ]
  },
  {
   "cell_type": "code",
   "execution_count": 20,
   "id": "6c317a0d",
   "metadata": {},
   "outputs": [],
   "source": [
    "y_TrainOneHot = np_utils.to_categorical(y_train)\n",
    "y_TestOneHot = np_utils.to_categorical(y_test)"
   ]
  },
  {
   "cell_type": "code",
   "execution_count": 6,
   "id": "8f4f1bcf",
   "metadata": {},
   "outputs": [],
   "source": [
    "from keras.models import Sequential\n",
    "from keras.layers import Dense,Dropout,Flatten,Conv2D,MaxPooling2D"
   ]
  },
  {
   "cell_type": "code",
   "execution_count": 7,
   "id": "d2944cad",
   "metadata": {},
   "outputs": [
    {
     "name": "stderr",
     "output_type": "stream",
     "text": [
      "2022-01-30 12:33:52.506874: I tensorflow/core/platform/cpu_feature_guard.cc:151] This TensorFlow binary is optimized with oneAPI Deep Neural Network Library (oneDNN) to use the following CPU instructions in performance-critical operations:  AVX2 FMA\n",
      "To enable them in other operations, rebuild TensorFlow with the appropriate compiler flags.\n"
     ]
    }
   ],
   "source": [
    "model = Sequential()"
   ]
  },
  {
   "cell_type": "code",
   "execution_count": 8,
   "id": "a0ad73a5",
   "metadata": {},
   "outputs": [],
   "source": [
    "model.add(Conv2D(filters = 16, kernel_size = (5,5), padding='same', input_shape= (28,28,1),activation='relu'))"
   ]
  },
  {
   "cell_type": "markdown",
   "id": "74b2c62a",
   "metadata": {},
   "source": [
    "- 會產生16個影像\n",
    "- 每一個濾鏡是5x5\n",
    "- 25 X 16 + 16 = 416"
   ]
  },
  {
   "cell_type": "code",
   "execution_count": 9,
   "id": "4a9f3d56",
   "metadata": {},
   "outputs": [],
   "source": [
    "model.add(MaxPooling2D(pool_size=(2,2)))"
   ]
  },
  {
   "cell_type": "markdown",
   "id": "ec8a62ff",
   "metadata": {},
   "source": [
    "- 28X28 -> 14X14"
   ]
  },
  {
   "cell_type": "code",
   "execution_count": 10,
   "id": "8cc5518c",
   "metadata": {},
   "outputs": [],
   "source": [
    "model.add(Conv2D(filters= 36, kernel_size = (5,5), padding='same', activation='relu'))"
   ]
  },
  {
   "cell_type": "markdown",
   "id": "c9af3280",
   "metadata": {},
   "source": [
    "- 16 X 25 X 36 + 36 = 14436"
   ]
  },
  {
   "cell_type": "code",
   "execution_count": 11,
   "id": "678b4a52",
   "metadata": {},
   "outputs": [],
   "source": [
    "model.add(MaxPooling2D(pool_size=(2,2)))"
   ]
  },
  {
   "cell_type": "markdown",
   "id": "cb514538",
   "metadata": {},
   "source": [
    "- 14 X 14 -> 7 X 7"
   ]
  },
  {
   "cell_type": "code",
   "execution_count": 12,
   "id": "f171f6d3",
   "metadata": {},
   "outputs": [],
   "source": [
    "model.add(Dropout(0.25)) # 放棄25％的神經元"
   ]
  },
  {
   "cell_type": "code",
   "execution_count": 13,
   "id": "00519abe",
   "metadata": {},
   "outputs": [],
   "source": [
    "model.add(Flatten()) # 7X7X36 = 1764"
   ]
  },
  {
   "cell_type": "code",
   "execution_count": 14,
   "id": "2ccd4e86",
   "metadata": {},
   "outputs": [],
   "source": [
    "model.add(Dense(128,activation='relu')) # 1764 X 128 + 128 = 225920"
   ]
  },
  {
   "cell_type": "code",
   "execution_count": 15,
   "id": "6c5e4788",
   "metadata": {},
   "outputs": [],
   "source": [
    "model.add(Dropout(0.5))"
   ]
  },
  {
   "cell_type": "code",
   "execution_count": 16,
   "id": "ce762717",
   "metadata": {},
   "outputs": [],
   "source": [
    "model.add(Dense(10,activation= 'softmax')) # 128 X 10 + 10 = 1290"
   ]
  },
  {
   "cell_type": "code",
   "execution_count": 17,
   "id": "ff957870",
   "metadata": {},
   "outputs": [
    {
     "name": "stdout",
     "output_type": "stream",
     "text": [
      "Model: \"sequential\"\n",
      "_________________________________________________________________\n",
      " Layer (type)                Output Shape              Param #   \n",
      "=================================================================\n",
      " conv2d (Conv2D)             (None, 28, 28, 16)        416       \n",
      "                                                                 \n",
      " max_pooling2d (MaxPooling2D  (None, 14, 14, 16)       0         \n",
      " )                                                               \n",
      "                                                                 \n",
      " conv2d_1 (Conv2D)           (None, 14, 14, 36)        14436     \n",
      "                                                                 \n",
      " max_pooling2d_1 (MaxPooling  (None, 7, 7, 36)         0         \n",
      " 2D)                                                             \n",
      "                                                                 \n",
      " dropout (Dropout)           (None, 7, 7, 36)          0         \n",
      "                                                                 \n",
      " flatten (Flatten)           (None, 1764)              0         \n",
      "                                                                 \n",
      " dense (Dense)               (None, 128)               225920    \n",
      "                                                                 \n",
      " dropout_1 (Dropout)         (None, 128)               0         \n",
      "                                                                 \n",
      " dense_1 (Dense)             (None, 10)                1290      \n",
      "                                                                 \n",
      "=================================================================\n",
      "Total params: 242,062\n",
      "Trainable params: 242,062\n",
      "Non-trainable params: 0\n",
      "_________________________________________________________________\n"
     ]
    }
   ],
   "source": [
    "model.summary()"
   ]
  },
  {
   "cell_type": "code",
   "execution_count": 18,
   "id": "c19d98d0",
   "metadata": {},
   "outputs": [],
   "source": [
    "model.compile(loss = \"categorical_crossentropy\", optimizer='adam', metrics=['accuracy'])"
   ]
  },
  {
   "cell_type": "code",
   "execution_count": 21,
   "id": "a06c8166",
   "metadata": {},
   "outputs": [
    {
     "name": "stdout",
     "output_type": "stream",
     "text": [
      "Epoch 1/10\n",
      "160/160 - 12s - loss: 0.4827 - accuracy: 0.8490 - val_loss: 0.1002 - val_accuracy: 0.9701 - 12s/epoch - 78ms/step\n",
      "Epoch 2/10\n",
      "160/160 - 12s - loss: 0.1372 - accuracy: 0.9593 - val_loss: 0.0649 - val_accuracy: 0.9796 - 12s/epoch - 75ms/step\n",
      "Epoch 3/10\n",
      "160/160 - 12s - loss: 0.0965 - accuracy: 0.9713 - val_loss: 0.0512 - val_accuracy: 0.9847 - 12s/epoch - 76ms/step\n",
      "Epoch 4/10\n",
      "160/160 - 13s - loss: 0.0777 - accuracy: 0.9769 - val_loss: 0.0488 - val_accuracy: 0.9862 - 13s/epoch - 79ms/step\n",
      "Epoch 5/10\n",
      "160/160 - 13s - loss: 0.0667 - accuracy: 0.9796 - val_loss: 0.0380 - val_accuracy: 0.9897 - 13s/epoch - 82ms/step\n",
      "Epoch 6/10\n",
      "160/160 - 13s - loss: 0.0588 - accuracy: 0.9821 - val_loss: 0.0376 - val_accuracy: 0.9885 - 13s/epoch - 82ms/step\n",
      "Epoch 7/10\n",
      "160/160 - 13s - loss: 0.0527 - accuracy: 0.9843 - val_loss: 0.0349 - val_accuracy: 0.9900 - 13s/epoch - 79ms/step\n",
      "Epoch 8/10\n",
      "160/160 - 13s - loss: 0.0455 - accuracy: 0.9860 - val_loss: 0.0311 - val_accuracy: 0.9907 - 13s/epoch - 82ms/step\n",
      "Epoch 9/10\n",
      "160/160 - 13s - loss: 0.0400 - accuracy: 0.9878 - val_loss: 0.0340 - val_accuracy: 0.9898 - 13s/epoch - 80ms/step\n",
      "Epoch 10/10\n",
      "160/160 - 13s - loss: 0.0384 - accuracy: 0.9882 - val_loss: 0.0323 - val_accuracy: 0.9914 - 13s/epoch - 79ms/step\n"
     ]
    }
   ],
   "source": [
    "train_history = model.fit(x= X_Train4D_normalize, y = y_TrainOneHot, validation_split = 0.2, epochs=10, batch_size=300, verbose=2)"
   ]
  },
  {
   "cell_type": "code",
   "execution_count": 25,
   "id": "354828a5",
   "metadata": {},
   "outputs": [],
   "source": [
    "# 建立 show_train_history 顯示訓練過程\n",
    "def show_train_history(train_history,train,validation):\n",
    "    plt.plot(train_history.history[train])\n",
    "    plt.plot(train_history.history[validation])\n",
    "    plt.title('Train History')\n",
    "    plt.ylabel('train')\n",
    "    plt.xlabel('Epoch')\n",
    "    plt.legend(['train','validation'],loc=\"upper left\")\n",
    "    plt.show()"
   ]
  },
  {
   "cell_type": "code",
   "execution_count": 26,
   "id": "158be250",
   "metadata": {},
   "outputs": [
    {
     "data": {
      "image/png": "[encoded data removed]",
      "text/plain": [
       "<Figure size 432x288 with 1 Axes>"
      ]
     },
     "metadata": {
      "needs_background": "light"
     },
     "output_type": "display_data"
    },
    {
     "data": {
      "image/png": "[encoded data removed]",
      "text/plain": [
       "<Figure size 432x288 with 1 Axes>"
      ]
     },
     "metadata": {
      "needs_background": "light"
     },
     "output_type": "display_data"
    }
   ],
   "source": [
    "show_train_history(train_history,'accuracy','val_accuracy')\n",
    "show_train_history(train_history,'loss','val_loss')"
   ]
  },
  {
   "cell_type": "code",
   "execution_count": 27,
   "id": "a686a251",
   "metadata": {},
   "outputs": [
    {
     "name": "stdout",
     "output_type": "stream",
     "text": [
      "313/313 [==============================] - 1s 3ms/step - loss: 0.0252 - accuracy: 0.9915\n",
      "\n",
      "accuracy= 0.9915000200271606\n"
     ]
    }
   ],
   "source": [
    "scores = model.evaluate(X_Test4D_normalize, y_TestOneHot)\n",
    "print()\n",
    "print('accuracy=',scores[1])"
   ]
  },
  {
   "cell_type": "code",
   "execution_count": 28,
   "id": "64baac5d",
   "metadata": {},
   "outputs": [],
   "source": [
    "# prediction = model.predict_classes(X_Test)\n",
    "predict_x=model.predict(X_Test4D_normalize) \n",
    "prediction=np.argmax(predict_x,axis=1)"
   ]
  },
  {
   "cell_type": "code",
   "execution_count": 29,
   "id": "82f72cd6",
   "metadata": {},
   "outputs": [
    {
     "data": {
      "text/plain": [
       "array([7, 2, 1, 0, 4, 1, 4, 9, 5, 9])"
      ]
     },
     "execution_count": 29,
     "metadata": {},
     "output_type": "execute_result"
    }
   ],
   "source": [
    "prediction[:10]"
   ]
  },
  {
   "cell_type": "code",
   "execution_count": 32,
   "id": "2968d658",
   "metadata": {},
   "outputs": [],
   "source": [
    "#查看多筆訓練資料\n",
    "def plot_images_labels_prediction(image, labels, prediction, idx,num=10):\n",
    "    fig = plt.gcf()\n",
    "    fig.set_size_inches(12,14)\n",
    "    if num > 25:\n",
    "        num = 25\n",
    "    for i in range(0,num):\n",
    "        ax = plt.subplot(5,5, i+1) #建立subgraph子圖形為5行5列\n",
    "        ax.imshow(image[idx], cmap='binary') #畫出 subgraph 子圖形\n",
    "        title = 'label=' + str(labels[idx]) # 設定子圖形title,顯示標籤欄位\n",
    "        if len(prediction) > 0:\n",
    "            title += \",predict=\"+str(prediction[idx]) # 標籤title加入預測結果\n",
    "        ax.set_title(title,fontsize = 10) # 設定子圖形的標題title與大小\n",
    "        ax.set_xticks([]); ax.set_yticks([]) #設定不顯示刻度\n",
    "        idx += 1\n",
    "    plt.show()"
   ]
  },
  {
   "cell_type": "code",
   "execution_count": 36,
   "id": "c82ec25d",
   "metadata": {},
   "outputs": [
    {
     "data": {
      "image/png": "[encoded data removed]",
      "text/plain": [
       "<Figure size 864x1008 with 10 Axes>"
      ]
     },
     "metadata": {},
     "output_type": "display_data"
    }
   ],
   "source": [
    "plot_images_labels_prediction(X_Test4D,y_test,prediction,idx=340)"
   ]
  },
  {
   "cell_type": "code",
   "execution_count": 38,
   "id": "9926b662",
   "metadata": {},
   "outputs": [
    {
     "data": {
      "text/html": [
       "<div>\n",
       "<style scoped>\n",
       "    .dataframe tbody tr th:only-of-type {\n",
       "        vertical-align: middle;\n",
       "    }\n",
       "\n",
       "    .dataframe tbody tr th {\n",
       "        vertical-align: top;\n",
       "    }\n",
       "\n",
       "    .dataframe thead th {\n",
       "        text-align: right;\n",
       "    }\n",
       "</style>\n",
       "<table border=\"1\" class=\"dataframe\">\n",
       "  <thead>\n",
       "    <tr style=\"text-align: right;\">\n",
       "      <th>predict</th>\n",
       "      <th>0</th>\n",
       "      <th>1</th>\n",
       "      <th>2</th>\n",
       "      <th>3</th>\n",
       "      <th>4</th>\n",
       "      <th>5</th>\n",
       "      <th>6</th>\n",
       "      <th>7</th>\n",
       "      <th>8</th>\n",
       "      <th>9</th>\n",
       "    </tr>\n",
       "    <tr>\n",
       "      <th>label</th>\n",
       "      <th></th>\n",
       "      <th></th>\n",
       "      <th></th>\n",
       "      <th></th>\n",
       "      <th></th>\n",
       "      <th></th>\n",
       "      <th></th>\n",
       "      <th></th>\n",
       "      <th></th>\n",
       "      <th></th>\n",
       "    </tr>\n",
       "  </thead>\n",
       "  <tbody>\n",
       "    <tr>\n",
       "      <th>0</th>\n",
       "      <td>978</td>\n",
       "      <td>0</td>\n",
       "      <td>0</td>\n",
       "      <td>0</td>\n",
       "      <td>0</td>\n",
       "      <td>0</td>\n",
       "      <td>0</td>\n",
       "      <td>1</td>\n",
       "      <td>1</td>\n",
       "      <td>0</td>\n",
       "    </tr>\n",
       "    <tr>\n",
       "      <th>1</th>\n",
       "      <td>0</td>\n",
       "      <td>1127</td>\n",
       "      <td>3</td>\n",
       "      <td>3</td>\n",
       "      <td>0</td>\n",
       "      <td>0</td>\n",
       "      <td>1</td>\n",
       "      <td>0</td>\n",
       "      <td>1</td>\n",
       "      <td>0</td>\n",
       "    </tr>\n",
       "    <tr>\n",
       "      <th>2</th>\n",
       "      <td>0</td>\n",
       "      <td>0</td>\n",
       "      <td>1030</td>\n",
       "      <td>0</td>\n",
       "      <td>0</td>\n",
       "      <td>0</td>\n",
       "      <td>0</td>\n",
       "      <td>1</td>\n",
       "      <td>1</td>\n",
       "      <td>0</td>\n",
       "    </tr>\n",
       "    <tr>\n",
       "      <th>3</th>\n",
       "      <td>0</td>\n",
       "      <td>0</td>\n",
       "      <td>1</td>\n",
       "      <td>1007</td>\n",
       "      <td>0</td>\n",
       "      <td>1</td>\n",
       "      <td>0</td>\n",
       "      <td>0</td>\n",
       "      <td>1</td>\n",
       "      <td>0</td>\n",
       "    </tr>\n",
       "    <tr>\n",
       "      <th>4</th>\n",
       "      <td>0</td>\n",
       "      <td>0</td>\n",
       "      <td>0</td>\n",
       "      <td>0</td>\n",
       "      <td>976</td>\n",
       "      <td>0</td>\n",
       "      <td>0</td>\n",
       "      <td>1</td>\n",
       "      <td>2</td>\n",
       "      <td>3</td>\n",
       "    </tr>\n",
       "    <tr>\n",
       "      <th>5</th>\n",
       "      <td>1</td>\n",
       "      <td>0</td>\n",
       "      <td>0</td>\n",
       "      <td>8</td>\n",
       "      <td>0</td>\n",
       "      <td>879</td>\n",
       "      <td>1</td>\n",
       "      <td>0</td>\n",
       "      <td>1</td>\n",
       "      <td>2</td>\n",
       "    </tr>\n",
       "    <tr>\n",
       "      <th>6</th>\n",
       "      <td>7</td>\n",
       "      <td>2</td>\n",
       "      <td>0</td>\n",
       "      <td>0</td>\n",
       "      <td>1</td>\n",
       "      <td>4</td>\n",
       "      <td>942</td>\n",
       "      <td>0</td>\n",
       "      <td>2</td>\n",
       "      <td>0</td>\n",
       "    </tr>\n",
       "    <tr>\n",
       "      <th>7</th>\n",
       "      <td>0</td>\n",
       "      <td>1</td>\n",
       "      <td>4</td>\n",
       "      <td>3</td>\n",
       "      <td>0</td>\n",
       "      <td>0</td>\n",
       "      <td>0</td>\n",
       "      <td>1015</td>\n",
       "      <td>1</td>\n",
       "      <td>4</td>\n",
       "    </tr>\n",
       "    <tr>\n",
       "      <th>8</th>\n",
       "      <td>1</td>\n",
       "      <td>0</td>\n",
       "      <td>2</td>\n",
       "      <td>2</td>\n",
       "      <td>0</td>\n",
       "      <td>1</td>\n",
       "      <td>0</td>\n",
       "      <td>0</td>\n",
       "      <td>966</td>\n",
       "      <td>2</td>\n",
       "    </tr>\n",
       "    <tr>\n",
       "      <th>9</th>\n",
       "      <td>1</td>\n",
       "      <td>1</td>\n",
       "      <td>0</td>\n",
       "      <td>3</td>\n",
       "      <td>2</td>\n",
       "      <td>2</td>\n",
       "      <td>0</td>\n",
       "      <td>1</td>\n",
       "      <td>4</td>\n",
       "      <td>995</td>\n",
       "    </tr>\n",
       "  </tbody>\n",
       "</table>\n",
       "</div>"
      ],
      "text/plain": [
       "predict    0     1     2     3    4    5    6     7    8    9\n",
       "label                                                        \n",
       "0        978     0     0     0    0    0    0     1    1    0\n",
       "1          0  1127     3     3    0    0    1     0    1    0\n",
       "2          0     0  1030     0    0    0    0     1    1    0\n",
       "3          0     0     1  1007    0    1    0     0    1    0\n",
       "4          0     0     0     0  976    0    0     1    2    3\n",
       "5          1     0     0     8    0  879    1     0    1    2\n",
       "6          7     2     0     0    1    4  942     0    2    0\n",
       "7          0     1     4     3    0    0    0  1015    1    4\n",
       "8          1     0     2     2    0    1    0     0  966    2\n",
       "9          1     1     0     3    2    2    0     1    4  995"
      ]
     },
     "execution_count": 38,
     "metadata": {},
     "output_type": "execute_result"
    }
   ],
   "source": [
    "import pandas as pd\n",
    "pd.crosstab(y_test,prediction,rownames=['label'],colnames=['predict'])"
   ]
  },
  {
   "cell_type": "markdown",
   "id": "25f9826b",
   "metadata": {},
   "source": [
    "- '1' 最不容易混淆\n",
    "- ‘5’ 最易混淆\n",
    "- '6' 最容易混淆為0"
   ]
  },
  {
   "cell_type": "code",
   "execution_count": 40,
   "id": "5b1de2ab",
   "metadata": {},
   "outputs": [
    {
     "data": {
      "text/html": [
       "<div>\n",
       "<style scoped>\n",
       "    .dataframe tbody tr th:only-of-type {\n",
       "        vertical-align: middle;\n",
       "    }\n",
       "\n",
       "    .dataframe tbody tr th {\n",
       "        vertical-align: top;\n",
       "    }\n",
       "\n",
       "    .dataframe thead th {\n",
       "        text-align: right;\n",
       "    }\n",
       "</style>\n",
       "<table border=\"1\" class=\"dataframe\">\n",
       "  <thead>\n",
       "    <tr style=\"text-align: right;\">\n",
       "      <th></th>\n",
       "      <th>label</th>\n",
       "      <th>predict</th>\n",
       "    </tr>\n",
       "  </thead>\n",
       "  <tbody>\n",
       "    <tr>\n",
       "      <th>0</th>\n",
       "      <td>7</td>\n",
       "      <td>7</td>\n",
       "    </tr>\n",
       "    <tr>\n",
       "      <th>1</th>\n",
       "      <td>2</td>\n",
       "      <td>2</td>\n",
       "    </tr>\n",
       "  </tbody>\n",
       "</table>\n",
       "</div>"
      ],
      "text/plain": [
       "   label  predict\n",
       "0      7        7\n",
       "1      2        2"
      ]
     },
     "execution_count": 40,
     "metadata": {},
     "output_type": "execute_result"
    }
   ],
   "source": [
    "df = pd.DataFrame({'label':y_test, 'predict':prediction})\n",
    "df[:2]"
   ]
  },
  {
   "cell_type": "code",
   "execution_count": 41,
   "id": "b9fb8f43",
   "metadata": {},
   "outputs": [
    {
     "data": {
      "text/html": [
       "<div>\n",
       "<style scoped>\n",
       "    .dataframe tbody tr th:only-of-type {\n",
       "        vertical-align: middle;\n",
       "    }\n",
       "\n",
       "    .dataframe tbody tr th {\n",
       "        vertical-align: top;\n",
       "    }\n",
       "\n",
       "    .dataframe thead th {\n",
       "        text-align: right;\n",
       "    }\n",
       "</style>\n",
       "<table border=\"1\" class=\"dataframe\">\n",
       "  <thead>\n",
       "    <tr style=\"text-align: right;\">\n",
       "      <th></th>\n",
       "      <th>label</th>\n",
       "      <th>predict</th>\n",
       "    </tr>\n",
       "  </thead>\n",
       "  <tbody>\n",
       "    <tr>\n",
       "      <th>259</th>\n",
       "      <td>6</td>\n",
       "      <td>0</td>\n",
       "    </tr>\n",
       "    <tr>\n",
       "      <th>445</th>\n",
       "      <td>6</td>\n",
       "      <td>0</td>\n",
       "    </tr>\n",
       "    <tr>\n",
       "      <th>965</th>\n",
       "      <td>6</td>\n",
       "      <td>0</td>\n",
       "    </tr>\n",
       "    <tr>\n",
       "      <th>3030</th>\n",
       "      <td>6</td>\n",
       "      <td>0</td>\n",
       "    </tr>\n",
       "    <tr>\n",
       "      <th>3422</th>\n",
       "      <td>6</td>\n",
       "      <td>0</td>\n",
       "    </tr>\n",
       "    <tr>\n",
       "      <th>3853</th>\n",
       "      <td>6</td>\n",
       "      <td>0</td>\n",
       "    </tr>\n",
       "    <tr>\n",
       "      <th>9888</th>\n",
       "      <td>6</td>\n",
       "      <td>0</td>\n",
       "    </tr>\n",
       "  </tbody>\n",
       "</table>\n",
       "</div>"
      ],
      "text/plain": [
       "      label  predict\n",
       "259       6        0\n",
       "445       6        0\n",
       "965       6        0\n",
       "3030      6        0\n",
       "3422      6        0\n",
       "3853      6        0\n",
       "9888      6        0"
      ]
     },
     "execution_count": 41,
     "metadata": {},
     "output_type": "execute_result"
    }
   ],
   "source": [
    "df[(df.label==6)&(df.predict==0)]"
   ]
  },
  {
   "cell_type": "code",
   "execution_count": 43,
   "id": "f5d8df7e",
   "metadata": {},
   "outputs": [
    {
     "data": {
      "image/png": "[encoded data removed]",
      "text/plain": [
       "<Figure size 864x1008 with 2 Axes>"
      ]
     },
     "metadata": {},
     "output_type": "display_data"
    }
   ],
   "source": [
    "plot_images_labels_prediction(X_test,y_test,prediction,idx=259,num=2)"
   ]
  },
  {
   "cell_type": "markdown",
   "id": "6195d4dd",
   "metadata": {},
   "source": [
    "- Accuracy 約 0.99"
   ]
  },
  {
   "cell_type": "code",
   "execution_count": null,
   "id": "f7f42bec",
   "metadata": {},
   "outputs": [],
   "source": []
  }
 ],
 "metadata": {
  "kernelspec": {
   "display_name": "Python 3 (ipykernel)",
   "language": "python",
   "name": "python3"
  },
  "language_info": {
   "codemirror_mode": {
    "name": "ipython",
    "version": 3
   },
   "file_extension": ".py",
   "mimetype": "text/x-python",
   "name": "python",
   "nbconvert_exporter": "python",
   "pygments_lexer": "ipython3",
   "version": "3.8.8"
  }
 },
 "nbformat": 4,
 "nbformat_minor": 5
}
