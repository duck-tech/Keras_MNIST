{
 "cells": [
  {
   "cell_type": "markdown",
   "id": "7653dc53",
   "metadata": {},
   "source": [
    "# 載入資料"
   ]
  },
  {
   "cell_type": "code",
   "execution_count": 1,
   "id": "01bccada",
   "metadata": {},
   "outputs": [],
   "source": [
    "from keras.utils import np_utils # 因為後續要將label 標籤轉成one-hot encoding\n",
    "# 匯入Keras 模組\n",
    "from keras.datasets import mnist\n",
    "\n",
    "import numpy as np\n",
    "np.random.seed(10)"
   ]
  },
  {
   "cell_type": "code",
   "execution_count": 2,
   "id": "efa5c734",
   "metadata": {},
   "outputs": [],
   "source": [
    "(X_train_image, y_train_label), (X_test_image, y_test_label) = mnist.load_data()"
   ]
  },
  {
   "cell_type": "code",
   "execution_count": 3,
   "id": "507c7109",
   "metadata": {},
   "outputs": [
    {
     "name": "stdout",
     "output_type": "stream",
     "text": [
      "train data= 60000\n",
      "test data= 10000\n"
     ]
    }
   ],
   "source": [
    "print('train data=',len(X_train_image))\n",
    "print('test data=',len(X_test_image))"
   ]
  },
  {
   "cell_type": "code",
   "execution_count": 4,
   "id": "c326ed20",
   "metadata": {},
   "outputs": [
    {
     "name": "stdout",
     "output_type": "stream",
     "text": [
      "X_train_image (60000, 28, 28)\n",
      "y_train_label (60000,)\n"
     ]
    }
   ],
   "source": [
    "print('X_train_image',X_train_image.shape)\n",
    "print('y_train_label',y_train_label.shape)"
   ]
  },
  {
   "cell_type": "markdown",
   "id": "f9f97604",
   "metadata": {},
   "source": [
    "# 觀察dataset"
   ]
  },
  {
   "cell_type": "code",
   "execution_count": 5,
   "id": "0e83430f",
   "metadata": {},
   "outputs": [],
   "source": [
    "# 顯示數字影像\n",
    "import matplotlib.pyplot as plt\n",
    "def plot_image(image):\n",
    "    # 設定圖型大小\n",
    "    fig = plt.gcf()\n",
    "    fig.set_size_inches(2,2)\n",
    "    # 傳入參數是28X28的圖形\n",
    "    # cmap參數設定為binary 以黑白灰階顯示\n",
    "    plt.imshow(image,cmap= 'binary')\n",
    "    plt.show()"
   ]
  },
  {
   "cell_type": "code",
   "execution_count": 6,
   "id": "8359102a",
   "metadata": {},
   "outputs": [
    {
     "data": {
      "image/png": "[encoded data removed]",
      "text/plain": [
       "<Figure size 144x144 with 1 Axes>"
      ]
     },
     "metadata": {
      "needs_background": "light"
     },
     "output_type": "display_data"
    }
   ],
   "source": [
    "plot_image(X_train_image[0])"
   ]
  },
  {
   "cell_type": "code",
   "execution_count": 7,
   "id": "ab57edf8",
   "metadata": {},
   "outputs": [
    {
     "data": {
      "text/plain": [
       "5"
      ]
     },
     "execution_count": 7,
     "metadata": {},
     "output_type": "execute_result"
    }
   ],
   "source": [
    "y_train_label[0]"
   ]
  },
  {
   "cell_type": "code",
   "execution_count": 8,
   "id": "23473d94",
   "metadata": {},
   "outputs": [],
   "source": [
    "#查看多筆訓練資料\n",
    "def plot_images_labels_prediction(image, labels, prediction, idx,num=10):\n",
    "    fig = plt.gcf()\n",
    "    fig.set_size_inches(12,14)\n",
    "    if num > 25:\n",
    "        num = 25\n",
    "    for i in range(0,num):\n",
    "        ax = plt.subplot(5,5, i+1) #建立subgraph子圖形為5行5列\n",
    "        ax.imshow(image[idx], cmap='binary') #畫出 subgraph 子圖形\n",
    "        title = 'label=' + str(labels[idx]) # 設定子圖形title,顯示標籤欄位\n",
    "        if len(prediction) > 0:\n",
    "            title += \",predict=\"+str(prediction[idx]) # 標籤title加入預測結果\n",
    "        ax.set_title(title,fontsize = 10) # 設定子圖形的標題title與大小\n",
    "        ax.set_xticks([]); ax.set_yticks([]) #設定不顯示刻度\n",
    "        idx += 1\n",
    "    plt.show()"
   ]
  },
  {
   "cell_type": "code",
   "execution_count": 9,
   "id": "0cc7990f",
   "metadata": {},
   "outputs": [
    {
     "data": {
      "image/png": "[encoded data removed]",
      "text/plain": [
       "<Figure size 864x1008 with 10 Axes>"
      ]
     },
     "metadata": {},
     "output_type": "display_data"
    }
   ],
   "source": [
    "plot_images_labels_prediction(X_train_image,y_train_label,[],0,10)"
   ]
  },
  {
   "cell_type": "code",
   "execution_count": 10,
   "id": "411bb64e",
   "metadata": {},
   "outputs": [
    {
     "name": "stdout",
     "output_type": "stream",
     "text": [
      "X_test_image: (10000, 28, 28)\n",
      "y_test_label: (10000,)\n"
     ]
    }
   ],
   "source": [
    "# 查看test dataset\n",
    "print('X_test_image:',X_test_image.shape)\n",
    "print('y_test_label:',y_test_label.shape)"
   ]
  },
  {
   "cell_type": "code",
   "execution_count": 11,
   "id": "2c9b018a",
   "metadata": {},
   "outputs": [
    {
     "data": {
      "image/png": "[encoded data removed]",
      "text/plain": [
       "<Figure size 864x1008 with 10 Axes>"
      ]
     },
     "metadata": {},
     "output_type": "display_data"
    }
   ],
   "source": [
    "plot_images_labels_prediction(X_test_image,y_test_label,[],0,10)"
   ]
  },
  {
   "cell_type": "markdown",
   "id": "92f82994",
   "metadata": {},
   "source": [
    "# Ｍultilayer perceptron(多層感知器)"
   ]
  },
  {
   "cell_type": "markdown",
   "id": "0da37047",
   "metadata": {},
   "source": [
    "### 資料前處理"
   ]
  },
  {
   "cell_type": "markdown",
   "id": "70014db1",
   "metadata": {},
   "source": [
    "### features \n",
    "- 將原本 28X28 數字影像，以reshape轉換為1維向量，其長度是784，並且轉換為float.\n",
    "- 數字影像image的數字標準化"
   ]
  },
  {
   "cell_type": "code",
   "execution_count": 12,
   "id": "3ee80d3c",
   "metadata": {},
   "outputs": [
    {
     "name": "stdout",
     "output_type": "stream",
     "text": [
      "X_train_image: (60000, 28, 28)\n",
      "y_train_image: (60000,)\n"
     ]
    }
   ],
   "source": [
    "print('X_train_image:', X_train_image.shape)\n",
    "print('y_train_image:',y_train_label.shape)"
   ]
  },
  {
   "cell_type": "code",
   "execution_count": 13,
   "id": "70584701",
   "metadata": {},
   "outputs": [
    {
     "name": "stdout",
     "output_type": "stream",
     "text": [
      "X_Train: (60000, 784)\n",
      "X_Test: (10000, 784)\n"
     ]
    }
   ],
   "source": [
    "X_Train = X_train_image.reshape(60000,784).astype('float32')\n",
    "X_Test = X_test_image.reshape(10000,784).astype('float32')\n",
    "print('X_Train:',X_Train.shape)\n",
    "print('X_Test:',X_Test.shape)"
   ]
  },
  {
   "cell_type": "code",
   "execution_count": 14,
   "id": "64af3425",
   "metadata": {},
   "outputs": [],
   "source": [
    "# X_train_image[0]\n",
    "# 大部分數字是 0,少部分是數字,每一個數字是由0至255,代表圖形每一個點的灰階的深淺"
   ]
  },
  {
   "cell_type": "code",
   "execution_count": 15,
   "id": "c91a71f1",
   "metadata": {},
   "outputs": [],
   "source": [
    "# 數字標準化\n",
    "X_Train_normalize = X_Train / 255\n",
    "X_Test_normalize = X_Test / 255\n",
    "# X_Train_normalize[0]"
   ]
  },
  {
   "cell_type": "markdown",
   "id": "7d3ae456",
   "metadata": {},
   "source": [
    "### labels\n",
    "- one hot encoding"
   ]
  },
  {
   "cell_type": "code",
   "execution_count": 16,
   "id": "2714e425",
   "metadata": {},
   "outputs": [
    {
     "data": {
      "text/plain": [
       "array([5, 0, 4, 1, 9], dtype=uint8)"
      ]
     },
     "execution_count": 16,
     "metadata": {},
     "output_type": "execute_result"
    }
   ],
   "source": [
    "y_train_label[:5]"
   ]
  },
  {
   "cell_type": "code",
   "execution_count": 17,
   "id": "fab08de4",
   "metadata": {},
   "outputs": [
    {
     "data": {
      "text/plain": [
       "array([[0., 0., 0., 0., 0., 1., 0., 0., 0., 0.],\n",
       "       [1., 0., 0., 0., 0., 0., 0., 0., 0., 0.],\n",
       "       [0., 0., 0., 0., 1., 0., 0., 0., 0., 0.],\n",
       "       [0., 1., 0., 0., 0., 0., 0., 0., 0., 0.],\n",
       "       [0., 0., 0., 0., 0., 0., 0., 0., 0., 1.]], dtype=float32)"
      ]
     },
     "execution_count": 17,
     "metadata": {},
     "output_type": "execute_result"
    }
   ],
   "source": [
    "y_TrainOneHot = np_utils.to_categorical(y_train_label)\n",
    "y_TestOneHot = np_utils.to_categorical(y_test_label)\n",
    "\n",
    "y_TrainOneHot[:5]"
   ]
  },
  {
   "cell_type": "markdown",
   "id": "fe7250f3",
   "metadata": {},
   "source": [
    "## 建立模型"
   ]
  },
  {
   "cell_type": "code",
   "execution_count": 18,
   "id": "f4410e2f",
   "metadata": {},
   "outputs": [],
   "source": [
    "from keras.models import Sequential\n",
    "from keras.layers import Dense"
   ]
  },
  {
   "cell_type": "code",
   "execution_count": 19,
   "id": "d0f4707d",
   "metadata": {},
   "outputs": [
    {
     "name": "stderr",
     "output_type": "stream",
     "text": [
      "2022-01-30 12:53:57.272973: I tensorflow/core/platform/cpu_feature_guard.cc:151] This TensorFlow binary is optimized with oneAPI Deep Neural Network Library (oneDNN) to use the following CPU instructions in performance-critical operations:  AVX2 FMA\n",
      "To enable them in other operations, rebuild TensorFlow with the appropriate compiler flags.\n"
     ]
    }
   ],
   "source": [
    "model = Sequential() # 建立Sequential()模型,線性堆疊模型,後續只要使用model.add()方法，將個神經網絡加入模型即可"
   ]
  },
  {
   "cell_type": "code",
   "execution_count": 20,
   "id": "e48b8343",
   "metadata": {},
   "outputs": [],
   "source": [
    "model.add(Dense(units = 256, input_dim = 784, kernel_initializer='normal', activation='relu'))"
   ]
  },
  {
   "cell_type": "markdown",
   "id": "e9680c46",
   "metadata": {},
   "source": [
    "Dense: 上一層與下一層完全連結\n",
    "- 隱藏層神經元：256\n",
    "- 輸入層:784\n",
    "- normal distribution初始化weight,bias\n",
    "- activation: relu"
   ]
  },
  {
   "cell_type": "code",
   "execution_count": 21,
   "id": "d0d207b2",
   "metadata": {},
   "outputs": [],
   "source": [
    "model.add(Dense(units = 10, kernel_initializer='normal',activation='softmax'))"
   ]
  },
  {
   "cell_type": "markdown",
   "id": "bc1a7ee0",
   "metadata": {},
   "source": [
    "Dense: 上一層與下一層完全連結\n",
    "\n",
    "- (input-dim = 256)\n",
    "- 輸出層神經元：10\n",
    "- normal distribution初始化weight,bias\n",
    "- activation: softmax -> 神經元的輸出，轉換為預測每一個的機率 "
   ]
  },
  {
   "cell_type": "code",
   "execution_count": 22,
   "id": "8bd1aac4",
   "metadata": {},
   "outputs": [
    {
     "name": "stdout",
     "output_type": "stream",
     "text": [
      "Model: \"sequential\"\n",
      "_________________________________________________________________\n",
      " Layer (type)                Output Shape              Param #   \n",
      "=================================================================\n",
      " dense (Dense)               (None, 256)               200960    \n",
      "                                                                 \n",
      " dense_1 (Dense)             (None, 10)                2570      \n",
      "                                                                 \n",
      "=================================================================\n",
      "Total params: 203,530\n",
      "Trainable params: 203,530\n",
      "Non-trainable params: 0\n",
      "_________________________________________________________________\n"
     ]
    }
   ],
   "source": [
    "model.summary()"
   ]
  },
  {
   "cell_type": "markdown",
   "id": "fb7c819c",
   "metadata": {},
   "source": [
    "## 模型訓練"
   ]
  },
  {
   "cell_type": "code",
   "execution_count": 23,
   "id": "e3cc331a",
   "metadata": {},
   "outputs": [],
   "source": [
    "model.compile(loss = \"categorical_crossentropy\", optimizer='adam', metrics=['accuracy'])"
   ]
  },
  {
   "cell_type": "markdown",
   "id": "d2fed3e7",
   "metadata": {},
   "source": [
    "- loss : loss function, 在深度學習通常使用cross_entropy訓練的效果較好。\n",
    "- optimizer : 設定訓練時的最優化方法，在深度學習使用adam最優化方法，可以讓訓練更快收斂，提高準確率\n",
    "- metrics: 評估的方式是accuracy"
   ]
  },
  {
   "cell_type": "code",
   "execution_count": 24,
   "id": "4ded5e88",
   "metadata": {},
   "outputs": [
    {
     "name": "stdout",
     "output_type": "stream",
     "text": [
      "Epoch 1/10\n",
      "240/240 - 1s - loss: 0.4388 - accuracy: 0.8828 - val_loss: 0.2166 - val_accuracy: 0.9411 - 692ms/epoch - 3ms/step\n",
      "Epoch 2/10\n",
      "240/240 - 0s - loss: 0.1948 - accuracy: 0.9442 - val_loss: 0.1567 - val_accuracy: 0.9553 - 349ms/epoch - 1ms/step\n",
      "Epoch 3/10\n",
      "240/240 - 0s - loss: 0.1389 - accuracy: 0.9600 - val_loss: 0.1312 - val_accuracy: 0.9626 - 364ms/epoch - 2ms/step\n",
      "Epoch 4/10\n",
      "240/240 - 0s - loss: 0.1065 - accuracy: 0.9687 - val_loss: 0.1141 - val_accuracy: 0.9672 - 349ms/epoch - 1ms/step\n",
      "Epoch 5/10\n",
      "240/240 - 0s - loss: 0.0844 - accuracy: 0.9758 - val_loss: 0.1014 - val_accuracy: 0.9697 - 350ms/epoch - 1ms/step\n",
      "Epoch 6/10\n",
      "240/240 - 0s - loss: 0.0673 - accuracy: 0.9813 - val_loss: 0.0902 - val_accuracy: 0.9736 - 358ms/epoch - 1ms/step\n",
      "Epoch 7/10\n",
      "240/240 - 0s - loss: 0.0563 - accuracy: 0.9841 - val_loss: 0.0955 - val_accuracy: 0.9728 - 350ms/epoch - 1ms/step\n",
      "Epoch 8/10\n",
      "240/240 - 0s - loss: 0.0461 - accuracy: 0.9877 - val_loss: 0.0829 - val_accuracy: 0.9750 - 350ms/epoch - 1ms/step\n",
      "Epoch 9/10\n",
      "240/240 - 0s - loss: 0.0379 - accuracy: 0.9901 - val_loss: 0.0815 - val_accuracy: 0.9754 - 355ms/epoch - 1ms/step\n",
      "Epoch 10/10\n",
      "240/240 - 0s - loss: 0.0322 - accuracy: 0.9924 - val_loss: 0.0802 - val_accuracy: 0.9757 - 359ms/epoch - 1ms/step\n"
     ]
    }
   ],
   "source": [
    "train_history = model.fit(x= X_Train_normalize, y = y_TrainOneHot, validation_split = 0.2, epochs=10, batch_size=200, verbose=2)"
   ]
  },
  {
   "cell_type": "markdown",
   "id": "0086eb72",
   "metadata": {},
   "source": [
    "使用 model.fit 進行訓練，訓練過程會儲存在train_history變數\n"
   ]
  },
  {
   "cell_type": "code",
   "execution_count": 25,
   "id": "63121c50",
   "metadata": {},
   "outputs": [],
   "source": [
    "# 建立 show_train_history 顯示訓練過程\n",
    "def show_train_history(train_history,train,validation):\n",
    "    plt.plot(train_history.history[train])\n",
    "    plt.plot(train_history.history[validation])\n",
    "    plt.title('Train History')\n",
    "    plt.ylabel('train')\n",
    "    plt.xlabel('Epoch')\n",
    "    plt.legend(['train','validation'],loc=\"upper left\")\n",
    "    plt.show()"
   ]
  },
  {
   "cell_type": "code",
   "execution_count": 26,
   "id": "3ce9a2ed",
   "metadata": {},
   "outputs": [
    {
     "data": {
      "image/png": "[encoded data removed]",
      "text/plain": [
       "<Figure size 432x288 with 1 Axes>"
      ]
     },
     "metadata": {
      "needs_background": "light"
     },
     "output_type": "display_data"
    }
   ],
   "source": [
    "show_train_history(train_history,'accuracy','val_accuracy')"
   ]
  },
  {
   "cell_type": "code",
   "execution_count": 27,
   "id": "c839acf7",
   "metadata": {},
   "outputs": [
    {
     "data": {
      "image/png": "[encoded data removed]",
      "text/plain": [
       "<Figure size 432x288 with 1 Axes>"
      ]
     },
     "metadata": {
      "needs_background": "light"
     },
     "output_type": "display_data"
    }
   ],
   "source": [
    "show_train_history(train_history,'loss','val_loss')"
   ]
  },
  {
   "cell_type": "code",
   "execution_count": 28,
   "id": "6c45b037",
   "metadata": {},
   "outputs": [
    {
     "name": "stdout",
     "output_type": "stream",
     "text": [
      "313/313 [==============================] - 0s 1ms/step - loss: 0.0756 - accuracy: 0.9777\n",
      "\n",
      "accuracy= 0.9776999950408936\n"
     ]
    }
   ],
   "source": [
    "scores = model.evaluate(X_Test_normalize, y_TestOneHot)\n",
    "print()\n",
    "print('accuracy=',scores[1])"
   ]
  },
  {
   "cell_type": "markdown",
   "id": "cb5d0278",
   "metadata": {},
   "source": [
    "## 預測模型"
   ]
  },
  {
   "cell_type": "code",
   "execution_count": 29,
   "id": "92cdb56a",
   "metadata": {},
   "outputs": [],
   "source": [
    "# prediction = model.predict_classes(X_Test)\n",
    "predict_x=model.predict(X_Test_normalize) \n",
    "prediction=np.argmax(predict_x,axis=1)"
   ]
  },
  {
   "cell_type": "code",
   "execution_count": 30,
   "id": "c5464030",
   "metadata": {},
   "outputs": [
    {
     "data": {
      "text/plain": [
       "array([7, 2, 1, ..., 4, 5, 6])"
      ]
     },
     "execution_count": 30,
     "metadata": {},
     "output_type": "execute_result"
    }
   ],
   "source": [
    "prediction"
   ]
  },
  {
   "cell_type": "code",
   "execution_count": 31,
   "id": "7881a595",
   "metadata": {},
   "outputs": [
    {
     "data": {
      "image/png": "[encoded data removed]",
      "text/plain": [
       "<Figure size 864x1008 with 10 Axes>"
      ]
     },
     "metadata": {},
     "output_type": "display_data"
    }
   ],
   "source": [
    "plot_images_labels_prediction(X_test_image, y_test_label, prediction, idx=340)"
   ]
  },
  {
   "cell_type": "markdown",
   "id": "a918e0bf",
   "metadata": {},
   "source": [
    "# 混淆矩陣"
   ]
  },
  {
   "cell_type": "code",
   "execution_count": 32,
   "id": "ffef58e0",
   "metadata": {},
   "outputs": [
    {
     "data": {
      "text/html": [
       "<div>\n",
       "<style scoped>\n",
       "    .dataframe tbody tr th:only-of-type {\n",
       "        vertical-align: middle;\n",
       "    }\n",
       "\n",
       "    .dataframe tbody tr th {\n",
       "        vertical-align: top;\n",
       "    }\n",
       "\n",
       "    .dataframe thead th {\n",
       "        text-align: right;\n",
       "    }\n",
       "</style>\n",
       "<table border=\"1\" class=\"dataframe\">\n",
       "  <thead>\n",
       "    <tr style=\"text-align: right;\">\n",
       "      <th>predict</th>\n",
       "      <th>0</th>\n",
       "      <th>1</th>\n",
       "      <th>2</th>\n",
       "      <th>3</th>\n",
       "      <th>4</th>\n",
       "      <th>5</th>\n",
       "      <th>6</th>\n",
       "      <th>7</th>\n",
       "      <th>8</th>\n",
       "      <th>9</th>\n",
       "    </tr>\n",
       "    <tr>\n",
       "      <th>label</th>\n",
       "      <th></th>\n",
       "      <th></th>\n",
       "      <th></th>\n",
       "      <th></th>\n",
       "      <th></th>\n",
       "      <th></th>\n",
       "      <th></th>\n",
       "      <th></th>\n",
       "      <th></th>\n",
       "      <th></th>\n",
       "    </tr>\n",
       "  </thead>\n",
       "  <tbody>\n",
       "    <tr>\n",
       "      <th>0</th>\n",
       "      <td>968</td>\n",
       "      <td>0</td>\n",
       "      <td>1</td>\n",
       "      <td>1</td>\n",
       "      <td>1</td>\n",
       "      <td>1</td>\n",
       "      <td>4</td>\n",
       "      <td>1</td>\n",
       "      <td>2</td>\n",
       "      <td>1</td>\n",
       "    </tr>\n",
       "    <tr>\n",
       "      <th>1</th>\n",
       "      <td>0</td>\n",
       "      <td>1127</td>\n",
       "      <td>4</td>\n",
       "      <td>0</td>\n",
       "      <td>0</td>\n",
       "      <td>1</td>\n",
       "      <td>2</td>\n",
       "      <td>0</td>\n",
       "      <td>1</td>\n",
       "      <td>0</td>\n",
       "    </tr>\n",
       "    <tr>\n",
       "      <th>2</th>\n",
       "      <td>2</td>\n",
       "      <td>1</td>\n",
       "      <td>1013</td>\n",
       "      <td>5</td>\n",
       "      <td>1</td>\n",
       "      <td>0</td>\n",
       "      <td>2</td>\n",
       "      <td>4</td>\n",
       "      <td>4</td>\n",
       "      <td>0</td>\n",
       "    </tr>\n",
       "    <tr>\n",
       "      <th>3</th>\n",
       "      <td>0</td>\n",
       "      <td>0</td>\n",
       "      <td>2</td>\n",
       "      <td>998</td>\n",
       "      <td>0</td>\n",
       "      <td>1</td>\n",
       "      <td>0</td>\n",
       "      <td>2</td>\n",
       "      <td>3</td>\n",
       "      <td>4</td>\n",
       "    </tr>\n",
       "    <tr>\n",
       "      <th>4</th>\n",
       "      <td>0</td>\n",
       "      <td>0</td>\n",
       "      <td>3</td>\n",
       "      <td>1</td>\n",
       "      <td>952</td>\n",
       "      <td>0</td>\n",
       "      <td>5</td>\n",
       "      <td>3</td>\n",
       "      <td>2</td>\n",
       "      <td>16</td>\n",
       "    </tr>\n",
       "    <tr>\n",
       "      <th>5</th>\n",
       "      <td>3</td>\n",
       "      <td>0</td>\n",
       "      <td>0</td>\n",
       "      <td>12</td>\n",
       "      <td>1</td>\n",
       "      <td>859</td>\n",
       "      <td>8</td>\n",
       "      <td>1</td>\n",
       "      <td>3</td>\n",
       "      <td>5</td>\n",
       "    </tr>\n",
       "    <tr>\n",
       "      <th>6</th>\n",
       "      <td>5</td>\n",
       "      <td>2</td>\n",
       "      <td>2</td>\n",
       "      <td>1</td>\n",
       "      <td>4</td>\n",
       "      <td>3</td>\n",
       "      <td>941</td>\n",
       "      <td>0</td>\n",
       "      <td>0</td>\n",
       "      <td>0</td>\n",
       "    </tr>\n",
       "    <tr>\n",
       "      <th>7</th>\n",
       "      <td>0</td>\n",
       "      <td>4</td>\n",
       "      <td>11</td>\n",
       "      <td>5</td>\n",
       "      <td>0</td>\n",
       "      <td>0</td>\n",
       "      <td>0</td>\n",
       "      <td>1003</td>\n",
       "      <td>0</td>\n",
       "      <td>5</td>\n",
       "    </tr>\n",
       "    <tr>\n",
       "      <th>8</th>\n",
       "      <td>3</td>\n",
       "      <td>0</td>\n",
       "      <td>6</td>\n",
       "      <td>13</td>\n",
       "      <td>2</td>\n",
       "      <td>4</td>\n",
       "      <td>1</td>\n",
       "      <td>5</td>\n",
       "      <td>938</td>\n",
       "      <td>2</td>\n",
       "    </tr>\n",
       "    <tr>\n",
       "      <th>9</th>\n",
       "      <td>3</td>\n",
       "      <td>5</td>\n",
       "      <td>0</td>\n",
       "      <td>10</td>\n",
       "      <td>4</td>\n",
       "      <td>1</td>\n",
       "      <td>2</td>\n",
       "      <td>5</td>\n",
       "      <td>1</td>\n",
       "      <td>978</td>\n",
       "    </tr>\n",
       "  </tbody>\n",
       "</table>\n",
       "</div>"
      ],
      "text/plain": [
       "predict    0     1     2    3    4    5    6     7    8    9\n",
       "label                                                       \n",
       "0        968     0     1    1    1    1    4     1    2    1\n",
       "1          0  1127     4    0    0    1    2     0    1    0\n",
       "2          2     1  1013    5    1    0    2     4    4    0\n",
       "3          0     0     2  998    0    1    0     2    3    4\n",
       "4          0     0     3    1  952    0    5     3    2   16\n",
       "5          3     0     0   12    1  859    8     1    3    5\n",
       "6          5     2     2    1    4    3  941     0    0    0\n",
       "7          0     4    11    5    0    0    0  1003    0    5\n",
       "8          3     0     6   13    2    4    1     5  938    2\n",
       "9          3     5     0   10    4    1    2     5    1  978"
      ]
     },
     "execution_count": 32,
     "metadata": {},
     "output_type": "execute_result"
    }
   ],
   "source": [
    "import pandas as pd\n",
    "pd.crosstab(y_test_label, prediction,rownames=['label'],colnames=['predict'])"
   ]
  },
  {
   "cell_type": "markdown",
   "id": "5553f3e3",
   "metadata": {},
   "source": [
    "- \"1\" 最不容易混淆\n",
    "- '5' 最容易混淆\n",
    "- '5' 容易混淆為'3'"
   ]
  },
  {
   "cell_type": "code",
   "execution_count": 33,
   "id": "96c8ddc6",
   "metadata": {},
   "outputs": [
    {
     "data": {
      "text/html": [
       "<div>\n",
       "<style scoped>\n",
       "    .dataframe tbody tr th:only-of-type {\n",
       "        vertical-align: middle;\n",
       "    }\n",
       "\n",
       "    .dataframe tbody tr th {\n",
       "        vertical-align: top;\n",
       "    }\n",
       "\n",
       "    .dataframe thead th {\n",
       "        text-align: right;\n",
       "    }\n",
       "</style>\n",
       "<table border=\"1\" class=\"dataframe\">\n",
       "  <thead>\n",
       "    <tr style=\"text-align: right;\">\n",
       "      <th></th>\n",
       "      <th>label</th>\n",
       "      <th>predict</th>\n",
       "    </tr>\n",
       "  </thead>\n",
       "  <tbody>\n",
       "    <tr>\n",
       "      <th>0</th>\n",
       "      <td>7</td>\n",
       "      <td>7</td>\n",
       "    </tr>\n",
       "    <tr>\n",
       "      <th>1</th>\n",
       "      <td>2</td>\n",
       "      <td>2</td>\n",
       "    </tr>\n",
       "  </tbody>\n",
       "</table>\n",
       "</div>"
      ],
      "text/plain": [
       "   label  predict\n",
       "0      7        7\n",
       "1      2        2"
      ]
     },
     "execution_count": 33,
     "metadata": {},
     "output_type": "execute_result"
    }
   ],
   "source": [
    "df = pd.DataFrame({'label':y_test_label, 'predict':prediction})\n",
    "df[:2]"
   ]
  },
  {
   "cell_type": "code",
   "execution_count": 34,
   "id": "cdd3cd66",
   "metadata": {},
   "outputs": [
    {
     "data": {
      "text/html": [
       "<div>\n",
       "<style scoped>\n",
       "    .dataframe tbody tr th:only-of-type {\n",
       "        vertical-align: middle;\n",
       "    }\n",
       "\n",
       "    .dataframe tbody tr th {\n",
       "        vertical-align: top;\n",
       "    }\n",
       "\n",
       "    .dataframe thead th {\n",
       "        text-align: right;\n",
       "    }\n",
       "</style>\n",
       "<table border=\"1\" class=\"dataframe\">\n",
       "  <thead>\n",
       "    <tr style=\"text-align: right;\">\n",
       "      <th></th>\n",
       "      <th>label</th>\n",
       "      <th>predict</th>\n",
       "    </tr>\n",
       "  </thead>\n",
       "  <tbody>\n",
       "    <tr>\n",
       "      <th>1260</th>\n",
       "      <td>7</td>\n",
       "      <td>1</td>\n",
       "    </tr>\n",
       "    <tr>\n",
       "      <th>1500</th>\n",
       "      <td>7</td>\n",
       "      <td>1</td>\n",
       "    </tr>\n",
       "    <tr>\n",
       "      <th>3838</th>\n",
       "      <td>7</td>\n",
       "      <td>1</td>\n",
       "    </tr>\n",
       "    <tr>\n",
       "      <th>6576</th>\n",
       "      <td>7</td>\n",
       "      <td>1</td>\n",
       "    </tr>\n",
       "  </tbody>\n",
       "</table>\n",
       "</div>"
      ],
      "text/plain": [
       "      label  predict\n",
       "1260      7        1\n",
       "1500      7        1\n",
       "3838      7        1\n",
       "6576      7        1"
      ]
     },
     "execution_count": 34,
     "metadata": {},
     "output_type": "execute_result"
    }
   ],
   "source": [
    "df[(df.label==7)&(df.predict==1)]"
   ]
  },
  {
   "cell_type": "code",
   "execution_count": 35,
   "id": "443f8ec2",
   "metadata": {},
   "outputs": [
    {
     "data": {
      "image/png": "[encoded data removed]",
      "text/plain": [
       "<Figure size 864x1008 with 2 Axes>"
      ]
     },
     "metadata": {},
     "output_type": "display_data"
    }
   ],
   "source": [
    "plot_images_labels_prediction(X_test_image,y_test_label,prediction,idx=5972,num=2)"
   ]
  },
  {
   "cell_type": "markdown",
   "id": "83742aab",
   "metadata": {},
   "source": [
    "## 隱藏層增加為1000個神經元 & Dropout"
   ]
  },
  {
   "cell_type": "code",
   "execution_count": 36,
   "id": "4e1528d8",
   "metadata": {},
   "outputs": [],
   "source": [
    "from keras.layers import Dropout"
   ]
  },
  {
   "cell_type": "code",
   "execution_count": 37,
   "id": "80c6a66d",
   "metadata": {},
   "outputs": [
    {
     "name": "stdout",
     "output_type": "stream",
     "text": [
      "Model: \"sequential_1\"\n",
      "_________________________________________________________________\n",
      " Layer (type)                Output Shape              Param #   \n",
      "=================================================================\n",
      " dense_2 (Dense)             (None, 1000)              785000    \n",
      "                                                                 \n",
      " dropout (Dropout)           (None, 1000)              0         \n",
      "                                                                 \n",
      " dense_3 (Dense)             (None, 10)                10010     \n",
      "                                                                 \n",
      "=================================================================\n",
      "Total params: 795,010\n",
      "Trainable params: 795,010\n",
      "Non-trainable params: 0\n",
      "_________________________________________________________________\n",
      "Epoch 1/10\n",
      "240/240 - 1s - loss: 0.3491 - accuracy: 0.8951 - val_loss: 0.1612 - val_accuracy: 0.9543 - 1s/epoch - 6ms/step\n",
      "Epoch 2/10\n",
      "240/240 - 1s - loss: 0.1584 - accuracy: 0.9535 - val_loss: 0.1208 - val_accuracy: 0.9648 - 962ms/epoch - 4ms/step\n",
      "Epoch 3/10\n",
      "240/240 - 1s - loss: 0.1143 - accuracy: 0.9668 - val_loss: 0.0973 - val_accuracy: 0.9739 - 930ms/epoch - 4ms/step\n",
      "Epoch 4/10\n",
      "240/240 - 1s - loss: 0.0902 - accuracy: 0.9730 - val_loss: 0.0879 - val_accuracy: 0.9725 - 910ms/epoch - 4ms/step\n",
      "Epoch 5/10\n",
      "240/240 - 1s - loss: 0.0744 - accuracy: 0.9779 - val_loss: 0.0817 - val_accuracy: 0.9748 - 913ms/epoch - 4ms/step\n",
      "Epoch 6/10\n",
      "240/240 - 1s - loss: 0.0641 - accuracy: 0.9807 - val_loss: 0.0763 - val_accuracy: 0.9773 - 925ms/epoch - 4ms/step\n",
      "Epoch 7/10\n",
      "240/240 - 1s - loss: 0.0562 - accuracy: 0.9826 - val_loss: 0.0709 - val_accuracy: 0.9784 - 976ms/epoch - 4ms/step\n",
      "Epoch 8/10\n",
      "240/240 - 1s - loss: 0.0471 - accuracy: 0.9867 - val_loss: 0.0721 - val_accuracy: 0.9785 - 956ms/epoch - 4ms/step\n",
      "Epoch 9/10\n",
      "240/240 - 1s - loss: 0.0412 - accuracy: 0.9870 - val_loss: 0.0711 - val_accuracy: 0.9786 - 939ms/epoch - 4ms/step\n",
      "Epoch 10/10\n",
      "240/240 - 1s - loss: 0.0372 - accuracy: 0.9885 - val_loss: 0.0661 - val_accuracy: 0.9809 - 999ms/epoch - 4ms/step\n"
     ]
    }
   ],
   "source": [
    "model = Sequential()\n",
    "model.add(Dense(units = 1000, input_dim = 784, kernel_initializer='normal', activation='relu'))\n",
    "model.add(Dropout(0.5))\n",
    "model.add(Dense(units = 10, kernel_initializer='normal',activation='softmax'))\n",
    "model.summary()\n",
    "model.compile(loss = \"categorical_crossentropy\", optimizer='adam', metrics=['accuracy'])\n",
    "train_history = model.fit(x= X_Train_normalize, y = y_TrainOneHot, validation_split = 0.2, epochs=10, batch_size=200, verbose=2)"
   ]
  },
  {
   "cell_type": "code",
   "execution_count": 38,
   "id": "cd0607c0",
   "metadata": {},
   "outputs": [
    {
     "data": {
      "image/png": "[encoded data removed]",
      "text/plain": [
       "<Figure size 432x288 with 1 Axes>"
      ]
     },
     "metadata": {
      "needs_background": "light"
     },
     "output_type": "display_data"
    },
    {
     "data": {
      "image/png": "[encoded data removed]",
      "text/plain": [
       "<Figure size 432x288 with 1 Axes>"
      ]
     },
     "metadata": {
      "needs_background": "light"
     },
     "output_type": "display_data"
    },
    {
     "name": "stdout",
     "output_type": "stream",
     "text": [
      "313/313 [==============================] - 0s 1ms/step - loss: 0.0611 - accuracy: 0.9813\n",
      "\n",
      "accuracy= 0.9812999963760376\n"
     ]
    }
   ],
   "source": [
    "show_train_history(train_history,'accuracy','val_accuracy')\n",
    "show_train_history(train_history,'loss','val_loss')\n",
    "scores = model.evaluate(X_Test_normalize, y_TestOneHot)\n",
    "print()\n",
    "print('accuracy=',scores[1])"
   ]
  },
  {
   "cell_type": "code",
   "execution_count": 39,
   "id": "502661ab",
   "metadata": {},
   "outputs": [
    {
     "data": {
      "image/png": "[encoded data removed]",
      "text/plain": [
       "<Figure size 864x1008 with 10 Axes>"
      ]
     },
     "metadata": {},
     "output_type": "display_data"
    },
    {
     "data": {
      "text/html": [
       "<div>\n",
       "<style scoped>\n",
       "    .dataframe tbody tr th:only-of-type {\n",
       "        vertical-align: middle;\n",
       "    }\n",
       "\n",
       "    .dataframe tbody tr th {\n",
       "        vertical-align: top;\n",
       "    }\n",
       "\n",
       "    .dataframe thead th {\n",
       "        text-align: right;\n",
       "    }\n",
       "</style>\n",
       "<table border=\"1\" class=\"dataframe\">\n",
       "  <thead>\n",
       "    <tr style=\"text-align: right;\">\n",
       "      <th>predict</th>\n",
       "      <th>0</th>\n",
       "      <th>1</th>\n",
       "      <th>2</th>\n",
       "      <th>3</th>\n",
       "      <th>4</th>\n",
       "      <th>5</th>\n",
       "      <th>6</th>\n",
       "      <th>7</th>\n",
       "      <th>8</th>\n",
       "      <th>9</th>\n",
       "    </tr>\n",
       "    <tr>\n",
       "      <th>label</th>\n",
       "      <th></th>\n",
       "      <th></th>\n",
       "      <th></th>\n",
       "      <th></th>\n",
       "      <th></th>\n",
       "      <th></th>\n",
       "      <th></th>\n",
       "      <th></th>\n",
       "      <th></th>\n",
       "      <th></th>\n",
       "    </tr>\n",
       "  </thead>\n",
       "  <tbody>\n",
       "    <tr>\n",
       "      <th>0</th>\n",
       "      <td>972</td>\n",
       "      <td>1</td>\n",
       "      <td>1</td>\n",
       "      <td>1</td>\n",
       "      <td>1</td>\n",
       "      <td>0</td>\n",
       "      <td>1</td>\n",
       "      <td>1</td>\n",
       "      <td>2</td>\n",
       "      <td>0</td>\n",
       "    </tr>\n",
       "    <tr>\n",
       "      <th>1</th>\n",
       "      <td>0</td>\n",
       "      <td>1123</td>\n",
       "      <td>3</td>\n",
       "      <td>0</td>\n",
       "      <td>0</td>\n",
       "      <td>0</td>\n",
       "      <td>2</td>\n",
       "      <td>0</td>\n",
       "      <td>7</td>\n",
       "      <td>0</td>\n",
       "    </tr>\n",
       "    <tr>\n",
       "      <th>2</th>\n",
       "      <td>2</td>\n",
       "      <td>1</td>\n",
       "      <td>1016</td>\n",
       "      <td>1</td>\n",
       "      <td>1</td>\n",
       "      <td>0</td>\n",
       "      <td>2</td>\n",
       "      <td>4</td>\n",
       "      <td>5</td>\n",
       "      <td>0</td>\n",
       "    </tr>\n",
       "    <tr>\n",
       "      <th>3</th>\n",
       "      <td>0</td>\n",
       "      <td>0</td>\n",
       "      <td>1</td>\n",
       "      <td>996</td>\n",
       "      <td>0</td>\n",
       "      <td>2</td>\n",
       "      <td>0</td>\n",
       "      <td>4</td>\n",
       "      <td>3</td>\n",
       "      <td>4</td>\n",
       "    </tr>\n",
       "    <tr>\n",
       "      <th>4</th>\n",
       "      <td>1</td>\n",
       "      <td>0</td>\n",
       "      <td>4</td>\n",
       "      <td>1</td>\n",
       "      <td>955</td>\n",
       "      <td>0</td>\n",
       "      <td>2</td>\n",
       "      <td>2</td>\n",
       "      <td>2</td>\n",
       "      <td>15</td>\n",
       "    </tr>\n",
       "    <tr>\n",
       "      <th>5</th>\n",
       "      <td>2</td>\n",
       "      <td>0</td>\n",
       "      <td>0</td>\n",
       "      <td>12</td>\n",
       "      <td>1</td>\n",
       "      <td>863</td>\n",
       "      <td>5</td>\n",
       "      <td>1</td>\n",
       "      <td>6</td>\n",
       "      <td>2</td>\n",
       "    </tr>\n",
       "    <tr>\n",
       "      <th>6</th>\n",
       "      <td>5</td>\n",
       "      <td>2</td>\n",
       "      <td>0</td>\n",
       "      <td>1</td>\n",
       "      <td>4</td>\n",
       "      <td>4</td>\n",
       "      <td>940</td>\n",
       "      <td>0</td>\n",
       "      <td>2</td>\n",
       "      <td>0</td>\n",
       "    </tr>\n",
       "    <tr>\n",
       "      <th>7</th>\n",
       "      <td>0</td>\n",
       "      <td>4</td>\n",
       "      <td>7</td>\n",
       "      <td>2</td>\n",
       "      <td>0</td>\n",
       "      <td>0</td>\n",
       "      <td>0</td>\n",
       "      <td>1007</td>\n",
       "      <td>1</td>\n",
       "      <td>7</td>\n",
       "    </tr>\n",
       "    <tr>\n",
       "      <th>8</th>\n",
       "      <td>1</td>\n",
       "      <td>0</td>\n",
       "      <td>3</td>\n",
       "      <td>4</td>\n",
       "      <td>2</td>\n",
       "      <td>1</td>\n",
       "      <td>2</td>\n",
       "      <td>3</td>\n",
       "      <td>951</td>\n",
       "      <td>7</td>\n",
       "    </tr>\n",
       "    <tr>\n",
       "      <th>9</th>\n",
       "      <td>3</td>\n",
       "      <td>3</td>\n",
       "      <td>0</td>\n",
       "      <td>2</td>\n",
       "      <td>4</td>\n",
       "      <td>1</td>\n",
       "      <td>0</td>\n",
       "      <td>6</td>\n",
       "      <td>0</td>\n",
       "      <td>990</td>\n",
       "    </tr>\n",
       "  </tbody>\n",
       "</table>\n",
       "</div>"
      ],
      "text/plain": [
       "predict    0     1     2    3    4    5    6     7    8    9\n",
       "label                                                       \n",
       "0        972     1     1    1    1    0    1     1    2    0\n",
       "1          0  1123     3    0    0    0    2     0    7    0\n",
       "2          2     1  1016    1    1    0    2     4    5    0\n",
       "3          0     0     1  996    0    2    0     4    3    4\n",
       "4          1     0     4    1  955    0    2     2    2   15\n",
       "5          2     0     0   12    1  863    5     1    6    2\n",
       "6          5     2     0    1    4    4  940     0    2    0\n",
       "7          0     4     7    2    0    0    0  1007    1    7\n",
       "8          1     0     3    4    2    1    2     3  951    7\n",
       "9          3     3     0    2    4    1    0     6    0  990"
      ]
     },
     "execution_count": 39,
     "metadata": {},
     "output_type": "execute_result"
    }
   ],
   "source": [
    "# prediction = model.predict_classes(X_Test)\n",
    "predict_x=model.predict(X_Test_normalize) \n",
    "prediction=np.argmax(predict_x,axis=1)\n",
    "plot_images_labels_prediction(X_test_image, y_test_label, prediction, idx=340)\n",
    "# import pandas as pd\n",
    "pd.crosstab(y_test_label, prediction,rownames=['label'],colnames=['predict'])"
   ]
  },
  {
   "cell_type": "markdown",
   "id": "22984573",
   "metadata": {},
   "source": [
    "## 建立兩個隱藏層"
   ]
  },
  {
   "cell_type": "code",
   "execution_count": 40,
   "id": "4bb34da7",
   "metadata": {},
   "outputs": [
    {
     "name": "stdout",
     "output_type": "stream",
     "text": [
      "Model: \"sequential_2\"\n",
      "_________________________________________________________________\n",
      " Layer (type)                Output Shape              Param #   \n",
      "=================================================================\n",
      " dense_4 (Dense)             (None, 1000)              785000    \n",
      "                                                                 \n",
      " dropout_1 (Dropout)         (None, 1000)              0         \n",
      "                                                                 \n",
      " dense_5 (Dense)             (None, 1000)              1001000   \n",
      "                                                                 \n",
      " dropout_2 (Dropout)         (None, 1000)              0         \n",
      "                                                                 \n",
      " dense_6 (Dense)             (None, 10)                10010     \n",
      "                                                                 \n",
      "=================================================================\n",
      "Total params: 1,796,010\n",
      "Trainable params: 1,796,010\n",
      "Non-trainable params: 0\n",
      "_________________________________________________________________\n",
      "Epoch 1/10\n",
      "240/240 - 3s - loss: 0.3670 - accuracy: 0.8866 - val_loss: 0.1341 - val_accuracy: 0.9591 - 3s/epoch - 11ms/step\n",
      "Epoch 2/10\n",
      "240/240 - 2s - loss: 0.1630 - accuracy: 0.9498 - val_loss: 0.1022 - val_accuracy: 0.9688 - 2s/epoch - 9ms/step\n",
      "Epoch 3/10\n",
      "240/240 - 2s - loss: 0.1218 - accuracy: 0.9614 - val_loss: 0.0915 - val_accuracy: 0.9719 - 2s/epoch - 9ms/step\n",
      "Epoch 4/10\n",
      "240/240 - 2s - loss: 0.1014 - accuracy: 0.9681 - val_loss: 0.0804 - val_accuracy: 0.9750 - 2s/epoch - 9ms/step\n",
      "Epoch 5/10\n",
      "240/240 - 2s - loss: 0.0868 - accuracy: 0.9726 - val_loss: 0.0853 - val_accuracy: 0.9747 - 2s/epoch - 9ms/step\n",
      "Epoch 6/10\n",
      "240/240 - 2s - loss: 0.0766 - accuracy: 0.9752 - val_loss: 0.0816 - val_accuracy: 0.9762 - 2s/epoch - 9ms/step\n",
      "Epoch 7/10\n",
      "240/240 - 2s - loss: 0.0663 - accuracy: 0.9786 - val_loss: 0.0761 - val_accuracy: 0.9790 - 2s/epoch - 9ms/step\n",
      "Epoch 8/10\n",
      "240/240 - 2s - loss: 0.0645 - accuracy: 0.9801 - val_loss: 0.0739 - val_accuracy: 0.9789 - 2s/epoch - 9ms/step\n",
      "Epoch 9/10\n",
      "240/240 - 2s - loss: 0.0559 - accuracy: 0.9816 - val_loss: 0.0810 - val_accuracy: 0.9797 - 2s/epoch - 9ms/step\n",
      "Epoch 10/10\n",
      "240/240 - 2s - loss: 0.0530 - accuracy: 0.9829 - val_loss: 0.0817 - val_accuracy: 0.9783 - 2s/epoch - 9ms/step\n"
     ]
    }
   ],
   "source": [
    "model = Sequential()\n",
    "model.add(Dense(units = 1000, input_dim = 784, kernel_initializer='normal', activation='relu'))\n",
    "model.add(Dropout(0.5))\n",
    "model.add(Dense(units = 1000, kernel_initializer='normal', activation='relu'))\n",
    "model.add(Dropout(0.5))\n",
    "model.add(Dense(units = 10, kernel_initializer='normal',activation='softmax'))\n",
    "model.summary()\n",
    "model.compile(loss = \"categorical_crossentropy\", optimizer='adam', metrics=['accuracy'])\n",
    "train_history = model.fit(x= X_Train_normalize, y = y_TrainOneHot, validation_split = 0.2, epochs=10, batch_size=200, verbose=2)"
   ]
  },
  {
   "cell_type": "code",
   "execution_count": 41,
   "id": "99f5659f",
   "metadata": {},
   "outputs": [
    {
     "data": {
      "image/png": "[encoded data removed]",
      "text/plain": [
       "<Figure size 432x288 with 1 Axes>"
      ]
     },
     "metadata": {
      "needs_background": "light"
     },
     "output_type": "display_data"
    },
    {
     "data": {
      "image/png": "[encoded data removed]",
      "text/plain": [
       "<Figure size 432x288 with 1 Axes>"
      ]
     },
     "metadata": {
      "needs_background": "light"
     },
     "output_type": "display_data"
    },
    {
     "name": "stdout",
     "output_type": "stream",
     "text": [
      "313/313 [==============================] - 1s 2ms/step - loss: 0.0690 - accuracy: 0.9814\n",
      "\n",
      "accuracy= 0.9814000129699707\n"
     ]
    }
   ],
   "source": [
    "show_train_history(train_history,'accuracy','val_accuracy')\n",
    "show_train_history(train_history,'loss','val_loss')\n",
    "scores = model.evaluate(X_Test_normalize, y_TestOneHot)\n",
    "print()\n",
    "print('accuracy=',scores[1])"
   ]
  },
  {
   "cell_type": "markdown",
   "id": "f1365e6f",
   "metadata": {},
   "source": [
    "- accuracy 並沒有顯著提升\n",
    "- Multilayer perceptron,並且嘗試將模型加寬,加深,以提高準確率,並且加入Drop層,以避免overfitting. \n",
    "- Accuracy 約 0.98"
   ]
  },
  {
   "cell_type": "markdown",
   "id": "d9e8e2e2",
   "metadata": {},
   "source": []
  },
  {
   "cell_type": "code",
   "execution_count": null,
   "id": "2bed63ad",
   "metadata": {},
   "outputs": [],
   "source": []
  }
 ],
 "metadata": {
  "kernelspec": {
   "display_name": "Python 3 (ipykernel)",
   "language": "python",
   "name": "python3"
  },
  "language_info": {
   "codemirror_mode": {
    "name": "ipython",
    "version": 3
   },
   "file_extension": ".py",
   "mimetype": "text/x-python",
   "name": "python",
   "nbconvert_exporter": "python",
   "pygments_lexer": "ipython3",
   "version": "3.8.8"
  }
 },
 "nbformat": 4,
 "nbformat_minor": 5
}
